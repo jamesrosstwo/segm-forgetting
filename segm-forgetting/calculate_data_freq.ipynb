{
 "cells": [
  {
   "cell_type": "code",
   "execution_count": 12,
   "metadata": {},
   "outputs": [],
   "source": [
    "import os\n",
    "import numpy as np\n",
    "from PIL import Image"
   ]
  },
  {
   "cell_type": "code",
   "execution_count": 20,
   "metadata": {},
   "outputs": [
    {
     "name": "stdout",
     "output_type": "stream",
     "text": [
      "[2.20638465e+18 2.85920065e+16 2.44466770e+16 2.80776099e+16\n",
      " 2.07964044e+16 1.74320100e+16 4.07081578e+16 6.11323753e+16\n",
      " 9.97718106e+16 3.99173775e+16 1.99642664e+16 3.38511768e+16\n",
      " 8.89067413e+16 2.94343343e+16 3.69662128e+16 2.36690273e+17\n",
      " 1.94204962e+16 2.00304079e+16 3.89875128e+16 4.29096995e+16\n",
      " 2.45394738e+16]\n"
     ]
    }
   ],
   "source": [
    "data_dir = \"../data/continuum.datasets.PascalVOC2012/SegmentationClassAug\"\n",
    "data_paths = [os.path.join(data_dir, f) for f in os.listdir(data_dir)]\n",
    "\n",
    "freqs = np.zeros((21,))\n",
    "total = 0\n",
    "\n",
    "for path in data_paths:\n",
    "    img = np.array(Image.open(path))\n",
    "    for i in range(21):\n",
    "        freqs[i] += np.sum(img == i)\n",
    "\n",
    "    total += img.size\n",
    "\n",
    "print((freqs[0] / freqs))\n",
    "\n"
   ]
  },
  {
   "cell_type": "code",
   "execution_count": 16,
   "metadata": {},
   "outputs": [
    {
     "data": {
      "text/plain": [
       "262144"
      ]
     },
     "execution_count": 16,
     "metadata": {},
     "output_type": "execute_result"
    }
   ],
   "source": [
    "512*512"
   ]
  },
  {
   "cell_type": "code",
   "execution_count": null,
   "metadata": {},
   "outputs": [],
   "source": []
  }
 ],
 "metadata": {
  "kernelspec": {
   "display_name": "segm-forgetting",
   "language": "python",
   "name": "python3"
  },
  "language_info": {
   "codemirror_mode": {
    "name": "ipython",
    "version": 3
   },
   "file_extension": ".py",
   "mimetype": "text/x-python",
   "name": "python",
   "nbconvert_exporter": "python",
   "pygments_lexer": "ipython3",
   "version": "3.8.20"
  }
 },
 "nbformat": 4,
 "nbformat_minor": 2
}
