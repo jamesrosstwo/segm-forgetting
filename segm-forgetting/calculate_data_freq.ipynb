{
 "cells": [
  {
   "cell_type": "code",
   "execution_count": 12,
   "metadata": {},
   "outputs": [],
   "source": [
    "import os\n",
    "import numpy as np\n",
    "from PIL import Image"
   ]
  },
  {
   "cell_type": "code",
   "execution_count": 21,
   "metadata": {},
   "outputs": [
    {
     "name": "stdout",
     "output_type": "stream",
     "text": [
      "[  1.          77.16788409  90.25294697  78.58164047 106.09452502\n",
      " 126.57086864  54.20006126  36.09191748  22.11430897  55.27378757\n",
      " 110.51669022  65.17896432  24.81684306  74.95955655  59.68652126\n",
      "   9.32182221 113.61113672 110.15175828  56.59208528  51.4192519\n",
      "  89.9116526 ]\n"
     ]
    }
   ],
   "source": [
    "data_dir = \"../data/continuum.datasets.PascalVOC2012/SegmentationClassAug\"\n",
    "data_paths = [os.path.join(data_dir, f) for f in os.listdir(data_dir)]\n",
    "\n",
    "freqs = np.zeros((21,))\n",
    "total = 0\n",
    "\n",
    "for path in data_paths:\n",
    "    img = np.array(Image.open(path))\n",
    "    for i in range(21):\n",
    "        freqs[i] += np.sum(img == i)\n",
    "\n",
    "    total += img.size\n",
    "\n",
    "print((freqs[0] / freqs))\n",
    "\n"
   ]
  },
  {
   "cell_type": "code",
   "execution_count": 16,
   "metadata": {},
   "outputs": [
    {
     "data": {
      "text/plain": [
       "262144"
      ]
     },
     "execution_count": 16,
     "metadata": {},
     "output_type": "execute_result"
    }
   ],
   "source": [
    "512*512"
   ]
  },
  {
   "cell_type": "code",
   "execution_count": null,
   "metadata": {},
   "outputs": [],
   "source": []
  }
 ],
 "metadata": {
  "kernelspec": {
   "display_name": "segm-forgetting",
   "language": "python",
   "name": "python3"
  },
  "language_info": {
   "codemirror_mode": {
    "name": "ipython",
    "version": 3
   },
   "file_extension": ".py",
   "mimetype": "text/x-python",
   "name": "python",
   "nbconvert_exporter": "python",
   "pygments_lexer": "ipython3",
   "version": "3.8.20"
  }
 },
 "nbformat": 4,
 "nbformat_minor": 2
}
